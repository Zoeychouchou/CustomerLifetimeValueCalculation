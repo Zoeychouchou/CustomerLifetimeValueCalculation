{
  "nbformat": 4,
  "nbformat_minor": 0,
  "metadata": {
    "colab": {
      "provenance": [],
      "collapsed_sections": []
    },
    "kernelspec": {
      "name": "python3",
      "display_name": "Python 3"
    },
    "language_info": {
      "name": "python"
    }
  },
  "cells": [
    {
      "cell_type": "markdown",
      "source": [
        "### Step 1: Understand the dataset "
      ],
      "metadata": {
        "id": "u9KN79bHslv2"
      }
    },
    {
      "cell_type": "code",
      "execution_count": 126,
      "metadata": {
        "colab": {
          "base_uri": "https://localhost:8080/",
          "height": 424
        },
        "id": "Q3VgvWnbqs8q",
        "outputId": "6d91b829-9567-4720-e07a-82b100a7d7df"
      },
      "outputs": [
        {
          "output_type": "execute_result",
          "data": {
            "text/plain": [
              "      TransactionID TransactionDate  CustomerID  Amount\n",
              "0                 1        9/4/2012           1   20.26\n",
              "1                 2       5/15/2012           2   10.87\n",
              "2                 3       5/23/2014           2    2.21\n",
              "3                 4      10/24/2014           2   10.48\n",
              "4                 5      10/13/2012           2    3.94\n",
              "...             ...             ...         ...     ...\n",
              "4181           4182       6/23/2013        1000    3.86\n",
              "4182           4183        8/7/2011        1000    4.00\n",
              "4183           4184       10/7/2012        1000   18.37\n",
              "4184           4185        1/9/2014        1000    3.45\n",
              "4185           4186       4/30/2011        1000    5.18\n",
              "\n",
              "[4186 rows x 4 columns]"
            ],
            "text/html": [
              "\n",
              "  <div id=\"df-b071ca8e-bfb0-4763-8af0-d4f4e6fe926b\">\n",
              "    <div class=\"colab-df-container\">\n",
              "      <div>\n",
              "<style scoped>\n",
              "    .dataframe tbody tr th:only-of-type {\n",
              "        vertical-align: middle;\n",
              "    }\n",
              "\n",
              "    .dataframe tbody tr th {\n",
              "        vertical-align: top;\n",
              "    }\n",
              "\n",
              "    .dataframe thead th {\n",
              "        text-align: right;\n",
              "    }\n",
              "</style>\n",
              "<table border=\"1\" class=\"dataframe\">\n",
              "  <thead>\n",
              "    <tr style=\"text-align: right;\">\n",
              "      <th></th>\n",
              "      <th>TransactionID</th>\n",
              "      <th>TransactionDate</th>\n",
              "      <th>CustomerID</th>\n",
              "      <th>Amount</th>\n",
              "    </tr>\n",
              "  </thead>\n",
              "  <tbody>\n",
              "    <tr>\n",
              "      <th>0</th>\n",
              "      <td>1</td>\n",
              "      <td>9/4/2012</td>\n",
              "      <td>1</td>\n",
              "      <td>20.26</td>\n",
              "    </tr>\n",
              "    <tr>\n",
              "      <th>1</th>\n",
              "      <td>2</td>\n",
              "      <td>5/15/2012</td>\n",
              "      <td>2</td>\n",
              "      <td>10.87</td>\n",
              "    </tr>\n",
              "    <tr>\n",
              "      <th>2</th>\n",
              "      <td>3</td>\n",
              "      <td>5/23/2014</td>\n",
              "      <td>2</td>\n",
              "      <td>2.21</td>\n",
              "    </tr>\n",
              "    <tr>\n",
              "      <th>3</th>\n",
              "      <td>4</td>\n",
              "      <td>10/24/2014</td>\n",
              "      <td>2</td>\n",
              "      <td>10.48</td>\n",
              "    </tr>\n",
              "    <tr>\n",
              "      <th>4</th>\n",
              "      <td>5</td>\n",
              "      <td>10/13/2012</td>\n",
              "      <td>2</td>\n",
              "      <td>3.94</td>\n",
              "    </tr>\n",
              "    <tr>\n",
              "      <th>...</th>\n",
              "      <td>...</td>\n",
              "      <td>...</td>\n",
              "      <td>...</td>\n",
              "      <td>...</td>\n",
              "    </tr>\n",
              "    <tr>\n",
              "      <th>4181</th>\n",
              "      <td>4182</td>\n",
              "      <td>6/23/2013</td>\n",
              "      <td>1000</td>\n",
              "      <td>3.86</td>\n",
              "    </tr>\n",
              "    <tr>\n",
              "      <th>4182</th>\n",
              "      <td>4183</td>\n",
              "      <td>8/7/2011</td>\n",
              "      <td>1000</td>\n",
              "      <td>4.00</td>\n",
              "    </tr>\n",
              "    <tr>\n",
              "      <th>4183</th>\n",
              "      <td>4184</td>\n",
              "      <td>10/7/2012</td>\n",
              "      <td>1000</td>\n",
              "      <td>18.37</td>\n",
              "    </tr>\n",
              "    <tr>\n",
              "      <th>4184</th>\n",
              "      <td>4185</td>\n",
              "      <td>1/9/2014</td>\n",
              "      <td>1000</td>\n",
              "      <td>3.45</td>\n",
              "    </tr>\n",
              "    <tr>\n",
              "      <th>4185</th>\n",
              "      <td>4186</td>\n",
              "      <td>4/30/2011</td>\n",
              "      <td>1000</td>\n",
              "      <td>5.18</td>\n",
              "    </tr>\n",
              "  </tbody>\n",
              "</table>\n",
              "<p>4186 rows × 4 columns</p>\n",
              "</div>\n",
              "      <button class=\"colab-df-convert\" onclick=\"convertToInteractive('df-b071ca8e-bfb0-4763-8af0-d4f4e6fe926b')\"\n",
              "              title=\"Convert this dataframe to an interactive table.\"\n",
              "              style=\"display:none;\">\n",
              "        \n",
              "  <svg xmlns=\"http://www.w3.org/2000/svg\" height=\"24px\"viewBox=\"0 0 24 24\"\n",
              "       width=\"24px\">\n",
              "    <path d=\"M0 0h24v24H0V0z\" fill=\"none\"/>\n",
              "    <path d=\"M18.56 5.44l.94 2.06.94-2.06 2.06-.94-2.06-.94-.94-2.06-.94 2.06-2.06.94zm-11 1L8.5 8.5l.94-2.06 2.06-.94-2.06-.94L8.5 2.5l-.94 2.06-2.06.94zm10 10l.94 2.06.94-2.06 2.06-.94-2.06-.94-.94-2.06-.94 2.06-2.06.94z\"/><path d=\"M17.41 7.96l-1.37-1.37c-.4-.4-.92-.59-1.43-.59-.52 0-1.04.2-1.43.59L10.3 9.45l-7.72 7.72c-.78.78-.78 2.05 0 2.83L4 21.41c.39.39.9.59 1.41.59.51 0 1.02-.2 1.41-.59l7.78-7.78 2.81-2.81c.8-.78.8-2.07 0-2.86zM5.41 20L4 18.59l7.72-7.72 1.47 1.35L5.41 20z\"/>\n",
              "  </svg>\n",
              "      </button>\n",
              "      \n",
              "  <style>\n",
              "    .colab-df-container {\n",
              "      display:flex;\n",
              "      flex-wrap:wrap;\n",
              "      gap: 12px;\n",
              "    }\n",
              "\n",
              "    .colab-df-convert {\n",
              "      background-color: #E8F0FE;\n",
              "      border: none;\n",
              "      border-radius: 50%;\n",
              "      cursor: pointer;\n",
              "      display: none;\n",
              "      fill: #1967D2;\n",
              "      height: 32px;\n",
              "      padding: 0 0 0 0;\n",
              "      width: 32px;\n",
              "    }\n",
              "\n",
              "    .colab-df-convert:hover {\n",
              "      background-color: #E2EBFA;\n",
              "      box-shadow: 0px 1px 2px rgba(60, 64, 67, 0.3), 0px 1px 3px 1px rgba(60, 64, 67, 0.15);\n",
              "      fill: #174EA6;\n",
              "    }\n",
              "\n",
              "    [theme=dark] .colab-df-convert {\n",
              "      background-color: #3B4455;\n",
              "      fill: #D2E3FC;\n",
              "    }\n",
              "\n",
              "    [theme=dark] .colab-df-convert:hover {\n",
              "      background-color: #434B5C;\n",
              "      box-shadow: 0px 1px 3px 1px rgba(0, 0, 0, 0.15);\n",
              "      filter: drop-shadow(0px 1px 2px rgba(0, 0, 0, 0.3));\n",
              "      fill: #FFFFFF;\n",
              "    }\n",
              "  </style>\n",
              "\n",
              "      <script>\n",
              "        const buttonEl =\n",
              "          document.querySelector('#df-b071ca8e-bfb0-4763-8af0-d4f4e6fe926b button.colab-df-convert');\n",
              "        buttonEl.style.display =\n",
              "          google.colab.kernel.accessAllowed ? 'block' : 'none';\n",
              "\n",
              "        async function convertToInteractive(key) {\n",
              "          const element = document.querySelector('#df-b071ca8e-bfb0-4763-8af0-d4f4e6fe926b');\n",
              "          const dataTable =\n",
              "            await google.colab.kernel.invokeFunction('convertToInteractive',\n",
              "                                                     [key], {});\n",
              "          if (!dataTable) return;\n",
              "\n",
              "          const docLinkHtml = 'Like what you see? Visit the ' +\n",
              "            '<a target=\"_blank\" href=https://colab.research.google.com/notebooks/data_table.ipynb>data table notebook</a>'\n",
              "            + ' to learn more about interactive tables.';\n",
              "          element.innerHTML = '';\n",
              "          dataTable['output_type'] = 'display_data';\n",
              "          await google.colab.output.renderOutput(dataTable, element);\n",
              "          const docLink = document.createElement('div');\n",
              "          docLink.innerHTML = docLinkHtml;\n",
              "          element.appendChild(docLink);\n",
              "        }\n",
              "      </script>\n",
              "    </div>\n",
              "  </div>\n",
              "  "
            ]
          },
          "metadata": {},
          "execution_count": 126
        }
      ],
      "source": [
        "import pandas as pd\n",
        "import numpy as np\n",
        "df = pd.read_csv('HW1 clv_transactions.csv')\n",
        "df"
      ]
    },
    {
      "cell_type": "markdown",
      "source": [
        "1. Are there any missing values in the dataset?  \n",
        "A: No."
      ],
      "metadata": {
        "id": "VuRaRPazsmFd"
      }
    },
    {
      "cell_type": "code",
      "source": [
        "df.isna().sum() "
      ],
      "metadata": {
        "colab": {
          "base_uri": "https://localhost:8080/"
        },
        "id": "HFb2gBRcuGgr",
        "outputId": "c48a44ed-eee9-4744-8e66-13b4413eff78"
      },
      "execution_count": 127,
      "outputs": [
        {
          "output_type": "execute_result",
          "data": {
            "text/plain": [
              "TransactionID      0\n",
              "TransactionDate    0\n",
              "CustomerID         0\n",
              "Amount             0\n",
              "dtype: int64"
            ]
          },
          "metadata": {},
          "execution_count": 127
        }
      ]
    },
    {
      "cell_type": "markdown",
      "source": [
        "2. What is the range of dates in the dataset?  \n",
        "A: 2010-01-04 to 2015-12-31"
      ],
      "metadata": {
        "id": "j0iFid1LsmdZ"
      }
    },
    {
      "cell_type": "code",
      "source": [
        "import datetime as dt\n",
        "df['TransactionDate'] = pd.to_datetime(df['TransactionDate'])\n",
        "date_range = str(df['TransactionDate'].dt.date.min()) + ' to ' +str(df['TransactionDate'].dt.date.max())\n",
        "print(date_range)"
      ],
      "metadata": {
        "colab": {
          "base_uri": "https://localhost:8080/"
        },
        "id": "kRP-u9opuHIK",
        "outputId": "571f5186-ee57-4c13-8187-d5fa2a243e2f"
      },
      "execution_count": 128,
      "outputs": [
        {
          "output_type": "stream",
          "name": "stdout",
          "text": [
            "2010-01-04 to 2015-12-31\n"
          ]
        }
      ]
    },
    {
      "cell_type": "markdown",
      "source": [
        "3. How many unique customers are there in the dataset?  \n",
        "A:1000"
      ],
      "metadata": {
        "id": "xJGwXOR_smme"
      }
    },
    {
      "cell_type": "code",
      "source": [
        "df['CustomerID'].nunique()"
      ],
      "metadata": {
        "colab": {
          "base_uri": "https://localhost:8080/"
        },
        "id": "4zdnq0jxuHxx",
        "outputId": "3b9c3539-23fe-4552-c279-6a098d830a3c"
      },
      "execution_count": 129,
      "outputs": [
        {
          "output_type": "execute_result",
          "data": {
            "text/plain": [
              "1000"
            ]
          },
          "metadata": {},
          "execution_count": 129
        }
      ]
    },
    {
      "cell_type": "markdown",
      "source": [
        "4. Profile the data to give the standard descriptive statistics for the Amount field. What is\n",
        "the min, max, variance, and standard deviations?  \n",
        "min: -1.000000  \n",
        "max: 2033.000000  \n",
        "variance: 1499.541111  \n",
        "standard deviations: 38.723909"
      ],
      "metadata": {
        "id": "8DsLOYMbsmqx"
      }
    },
    {
      "cell_type": "code",
      "source": [
        "df['Amount'].describe()"
      ],
      "metadata": {
        "colab": {
          "base_uri": "https://localhost:8080/"
        },
        "id": "06RbS-hAuIV2",
        "outputId": "690a6cd0-67ba-4acc-d03d-7847ebbf8a86"
      },
      "execution_count": 130,
      "outputs": [
        {
          "output_type": "execute_result",
          "data": {
            "text/plain": [
              "count    4186.000000\n",
              "mean        9.028082\n",
              "std        38.723909\n",
              "min        -1.000000\n",
              "25%         3.310000\n",
              "50%         6.885000\n",
              "75%        11.690000\n",
              "max      2033.000000\n",
              "Name: Amount, dtype: float64"
            ]
          },
          "metadata": {},
          "execution_count": 130
        }
      ]
    },
    {
      "cell_type": "code",
      "source": [
        "df['Amount'].var()"
      ],
      "metadata": {
        "colab": {
          "base_uri": "https://localhost:8080/"
        },
        "id": "c1ulDZ0z2wIz",
        "outputId": "8ef1cb30-cd12-44ba-fef5-1c6ebfeaab07"
      },
      "execution_count": 131,
      "outputs": [
        {
          "output_type": "execute_result",
          "data": {
            "text/plain": [
              "1499.5411107517464"
            ]
          },
          "metadata": {},
          "execution_count": 131
        }
      ]
    },
    {
      "cell_type": "markdown",
      "source": [
        "5. Do transaction amounts in general increase over time (perhaps due to inflation)?  \n",
        "A: No, the correlation between Year and Amount is -0.02. There's no correlation.  \n",
        "The transaction amounts in general doesn't increase over time."
      ],
      "metadata": {
        "id": "-seRHirksmuE"
      }
    },
    {
      "cell_type": "code",
      "source": [
        "#add \"Year\" of the transaction\n",
        "df['Year'] = pd.DatetimeIndex(df['TransactionDate']).year \n",
        "df['Year']"
      ],
      "metadata": {
        "colab": {
          "base_uri": "https://localhost:8080/"
        },
        "id": "VkQEYAlU1Psj",
        "outputId": "f01d14bf-02cc-4b4b-c9da-a4d58c905d86"
      },
      "execution_count": 132,
      "outputs": [
        {
          "output_type": "execute_result",
          "data": {
            "text/plain": [
              "0       2012\n",
              "1       2012\n",
              "2       2014\n",
              "3       2014\n",
              "4       2012\n",
              "        ... \n",
              "4181    2013\n",
              "4182    2011\n",
              "4183    2012\n",
              "4184    2014\n",
              "4185    2011\n",
              "Name: Year, Length: 4186, dtype: int64"
            ]
          },
          "metadata": {},
          "execution_count": 132
        }
      ]
    },
    {
      "cell_type": "code",
      "source": [
        "df['Year'].corr(df['Amount'])"
      ],
      "metadata": {
        "colab": {
          "base_uri": "https://localhost:8080/"
        },
        "id": "XbAznDH-8Yp-",
        "outputId": "111f05b6-95fb-4550-d5af-b916c839aade"
      },
      "execution_count": 133,
      "outputs": [
        {
          "output_type": "execute_result",
          "data": {
            "text/plain": [
              "-0.020998259423247758"
            ]
          },
          "metadata": {},
          "execution_count": 133
        }
      ]
    },
    {
      "cell_type": "markdown",
      "source": [
        "### Step 2: Explore the dataset"
      ],
      "metadata": {
        "id": "EFsL3aoFuI-T"
      }
    },
    {
      "cell_type": "markdown",
      "source": [
        "1. Are there any outliers?  \n",
        "A: Yes, it's more obvious in the scatter plot."
      ],
      "metadata": {
        "id": "I8vI-n2Ysmx_"
      }
    },
    {
      "cell_type": "code",
      "source": [
        "import matplotlib.pyplot as plt\n",
        "#original amount\n",
        "x = df['TransactionDate']\n",
        "y = df['Amount']\n",
        "#plot histogram\n",
        "plt.hist(y)\n",
        "plt.show()"
      ],
      "metadata": {
        "colab": {
          "base_uri": "https://localhost:8080/",
          "height": 265
        },
        "id": "bgx_KlrN9vGD",
        "outputId": "9fd44100-f6cf-4587-f814-bbc0364ba456"
      },
      "execution_count": 134,
      "outputs": [
        {
          "output_type": "display_data",
          "data": {
            "text/plain": [
              "<Figure size 432x288 with 1 Axes>"
            ],
            "image/png": "[encoded data removed]"
          },
          "metadata": {}
        }
      ]
    },
    {
      "cell_type": "code",
      "source": [
        "# more obvious in scatter\n",
        "#plot scatter of amount over time\n",
        "plt.scatter(x,y)\n",
        "plt.show()"
      ],
      "metadata": {
        "colab": {
          "base_uri": "https://localhost:8080/",
          "height": 265
        },
        "id": "z-ikh6by_7bZ",
        "outputId": "01d7ec9e-c23b-4eb4-c109-fa96f554c48f"
      },
      "execution_count": 135,
      "outputs": [
        {
          "output_type": "display_data",
          "data": {
            "text/plain": [
              "<Figure size 432x288 with 1 Axes>"
            ],
            "image/png": "[encoded data removed]"
          },
          "metadata": {}
        }
      ]
    },
    {
      "cell_type": "markdown",
      "source": [
        "2. If so how would you treat them?  \n",
        "A: I'll find the data range from the lower bound(1st quartile-1.5*IQR) to the upper bound(3rd quartile+1.5*IQR), and then\n",
        "delete the data out of this range.\n",
        "Also, I assume there's no transaction is negative, so I'll also delete the negative data point in the amount."
      ],
      "metadata": {
        "id": "_6Wg2yqVsm1e"
      }
    },
    {
      "cell_type": "code",
      "source": [
        "#remove outlier first\n",
        "q1 = df['Amount'].quantile(0.25)\n",
        "q3 = df['Amount'].quantile(0.75)\n",
        "iqr = q3-q1 #Interquartile range\n",
        "lowbar  = q1-1.5*iqr\n",
        "highbar = q3+1.5*iqr\n",
        "#create new dataframe df_outlier without outlier\n",
        "df_outlier = df.loc[(df['Amount'] > lowbar) & (df['Amount'] < highbar)]\n",
        "# assume transaction should be positive, delete amount data lower than 0\n",
        "df_outlier = df_outlier.loc[(df['Amount'] > 0)]\n",
        "x = df_outlier['TransactionDate']\n",
        "y = df_outlier['Amount']\n",
        "#plot histogram\n",
        "plt.hist(y)\n",
        "plt.show()"
      ],
      "metadata": {
        "colab": {
          "base_uri": "https://localhost:8080/",
          "height": 265
        },
        "id": "LX-0QQiCAXv3",
        "outputId": "365eb4a0-70e7-42d8-becb-44f1a46b632e"
      },
      "execution_count": 136,
      "outputs": [
        {
          "output_type": "display_data",
          "data": {
            "text/plain": [
              "<Figure size 432x288 with 1 Axes>"
            ],
            "image/png": "[encoded data removed]"
          },
          "metadata": {}
        }
      ]
    },
    {
      "cell_type": "code",
      "source": [
        "#plot scatter of amount over time\n",
        "plt.scatter(x,y)\n",
        "plt.show()"
      ],
      "metadata": {
        "colab": {
          "base_uri": "https://localhost:8080/",
          "height": 266
        },
        "id": "kKfkXU0qsm5y",
        "outputId": "67c3f32b-cbf7-462c-859d-0fbff07b226f"
      },
      "execution_count": 137,
      "outputs": [
        {
          "output_type": "display_data",
          "data": {
            "text/plain": [
              "<Figure size 432x288 with 1 Axes>"
            ],
            "image/png": "[encoded data removed]"
          },
          "metadata": {}
        }
      ]
    },
    {
      "cell_type": "code",
      "source": [
        "df_outlier['Amount'].describe()"
      ],
      "metadata": {
        "colab": {
          "base_uri": "https://localhost:8080/"
        },
        "id": "uJok_y-DZTiK",
        "outputId": "33694a2a-6ae0-4175-9bad-9ae7219d88cd"
      },
      "execution_count": 138,
      "outputs": [
        {
          "output_type": "execute_result",
          "data": {
            "text/plain": [
              "count    4119.000000\n",
              "mean        7.770311\n",
              "std         5.522822\n",
              "min         0.010000\n",
              "25%         3.270000\n",
              "50%         6.750000\n",
              "75%        11.390000\n",
              "max        24.200000\n",
              "Name: Amount, dtype: float64"
            ]
          },
          "metadata": {},
          "execution_count": 138
        }
      ]
    },
    {
      "cell_type": "markdown",
      "source": [
        "### Step 3:  Determine origin year of customers"
      ],
      "metadata": {
        "id": "4Fkid6Jssm86"
      }
    },
    {
      "cell_type": "code",
      "source": [
        "#assign the \"OriginalYear\" as different froup to all customers\n",
        "df_outlier['OriginalYear'] = df_outlier.groupby('CustomerID')['Year'].transform('min') \n",
        "df_outlier"
      ],
      "metadata": {
        "colab": {
          "base_uri": "https://localhost:8080/",
          "height": 424
        },
        "id": "Bl5jX_B_TqAX",
        "outputId": "6b01dc21-45db-4dfa-91ab-0848008e3ac5"
      },
      "execution_count": 139,
      "outputs": [
        {
          "output_type": "execute_result",
          "data": {
            "text/plain": [
              "      TransactionID TransactionDate  CustomerID  Amount  Year  OriginalYear\n",
              "0                 1      2012-09-04           1   20.26  2012          2012\n",
              "1                 2      2012-05-15           2   10.87  2012          2012\n",
              "2                 3      2014-05-23           2    2.21  2014          2012\n",
              "3                 4      2014-10-24           2   10.48  2014          2012\n",
              "4                 5      2012-10-13           2    3.94  2012          2012\n",
              "...             ...             ...         ...     ...   ...           ...\n",
              "4181           4182      2013-06-23        1000    3.86  2013          2010\n",
              "4182           4183      2011-08-07        1000    4.00  2011          2010\n",
              "4183           4184      2012-10-07        1000   18.37  2012          2010\n",
              "4184           4185      2014-01-09        1000    3.45  2014          2010\n",
              "4185           4186      2011-04-30        1000    5.18  2011          2010\n",
              "\n",
              "[4119 rows x 6 columns]"
            ],
            "text/html": [
              "\n",
              "  <div id=\"df-3682ea20-3d8c-4ed6-b624-e1b2e748e7db\">\n",
              "    <div class=\"colab-df-container\">\n",
              "      <div>\n",
              "<style scoped>\n",
              "    .dataframe tbody tr th:only-of-type {\n",
              "        vertical-align: middle;\n",
              "    }\n",
              "\n",
              "    .dataframe tbody tr th {\n",
              "        vertical-align: top;\n",
              "    }\n",
              "\n",
              "    .dataframe thead th {\n",
              "        text-align: right;\n",
              "    }\n",
              "</style>\n",
              "<table border=\"1\" class=\"dataframe\">\n",
              "  <thead>\n",
              "    <tr style=\"text-align: right;\">\n",
              "      <th></th>\n",
              "      <th>TransactionID</th>\n",
              "      <th>TransactionDate</th>\n",
              "      <th>CustomerID</th>\n",
              "      <th>Amount</th>\n",
              "      <th>Year</th>\n",
              "      <th>OriginalYear</th>\n",
              "    </tr>\n",
              "  </thead>\n",
              "  <tbody>\n",
              "    <tr>\n",
              "      <th>0</th>\n",
              "      <td>1</td>\n",
              "      <td>2012-09-04</td>\n",
              "      <td>1</td>\n",
              "      <td>20.26</td>\n",
              "      <td>2012</td>\n",
              "      <td>2012</td>\n",
              "    </tr>\n",
              "    <tr>\n",
              "      <th>1</th>\n",
              "      <td>2</td>\n",
              "      <td>2012-05-15</td>\n",
              "      <td>2</td>\n",
              "      <td>10.87</td>\n",
              "      <td>2012</td>\n",
              "      <td>2012</td>\n",
              "    </tr>\n",
              "    <tr>\n",
              "      <th>2</th>\n",
              "      <td>3</td>\n",
              "      <td>2014-05-23</td>\n",
              "      <td>2</td>\n",
              "      <td>2.21</td>\n",
              "      <td>2014</td>\n",
              "      <td>2012</td>\n",
              "    </tr>\n",
              "    <tr>\n",
              "      <th>3</th>\n",
              "      <td>4</td>\n",
              "      <td>2014-10-24</td>\n",
              "      <td>2</td>\n",
              "      <td>10.48</td>\n",
              "      <td>2014</td>\n",
              "      <td>2012</td>\n",
              "    </tr>\n",
              "    <tr>\n",
              "      <th>4</th>\n",
              "      <td>5</td>\n",
              "      <td>2012-10-13</td>\n",
              "      <td>2</td>\n",
              "      <td>3.94</td>\n",
              "      <td>2012</td>\n",
              "      <td>2012</td>\n",
              "    </tr>\n",
              "    <tr>\n",
              "      <th>...</th>\n",
              "      <td>...</td>\n",
              "      <td>...</td>\n",
              "      <td>...</td>\n",
              "      <td>...</td>\n",
              "      <td>...</td>\n",
              "      <td>...</td>\n",
              "    </tr>\n",
              "    <tr>\n",
              "      <th>4181</th>\n",
              "      <td>4182</td>\n",
              "      <td>2013-06-23</td>\n",
              "      <td>1000</td>\n",
              "      <td>3.86</td>\n",
              "      <td>2013</td>\n",
              "      <td>2010</td>\n",
              "    </tr>\n",
              "    <tr>\n",
              "      <th>4182</th>\n",
              "      <td>4183</td>\n",
              "      <td>2011-08-07</td>\n",
              "      <td>1000</td>\n",
              "      <td>4.00</td>\n",
              "      <td>2011</td>\n",
              "      <td>2010</td>\n",
              "    </tr>\n",
              "    <tr>\n",
              "      <th>4183</th>\n",
              "      <td>4184</td>\n",
              "      <td>2012-10-07</td>\n",
              "      <td>1000</td>\n",
              "      <td>18.37</td>\n",
              "      <td>2012</td>\n",
              "      <td>2010</td>\n",
              "    </tr>\n",
              "    <tr>\n",
              "      <th>4184</th>\n",
              "      <td>4185</td>\n",
              "      <td>2014-01-09</td>\n",
              "      <td>1000</td>\n",
              "      <td>3.45</td>\n",
              "      <td>2014</td>\n",
              "      <td>2010</td>\n",
              "    </tr>\n",
              "    <tr>\n",
              "      <th>4185</th>\n",
              "      <td>4186</td>\n",
              "      <td>2011-04-30</td>\n",
              "      <td>1000</td>\n",
              "      <td>5.18</td>\n",
              "      <td>2011</td>\n",
              "      <td>2010</td>\n",
              "    </tr>\n",
              "  </tbody>\n",
              "</table>\n",
              "<p>4119 rows × 6 columns</p>\n",
              "</div>\n",
              "      <button class=\"colab-df-convert\" onclick=\"convertToInteractive('df-3682ea20-3d8c-4ed6-b624-e1b2e748e7db')\"\n",
              "              title=\"Convert this dataframe to an interactive table.\"\n",
              "              style=\"display:none;\">\n",
              "        \n",
              "  <svg xmlns=\"http://www.w3.org/2000/svg\" height=\"24px\"viewBox=\"0 0 24 24\"\n",
              "       width=\"24px\">\n",
              "    <path d=\"M0 0h24v24H0V0z\" fill=\"none\"/>\n",
              "    <path d=\"M18.56 5.44l.94 2.06.94-2.06 2.06-.94-2.06-.94-.94-2.06-.94 2.06-2.06.94zm-11 1L8.5 8.5l.94-2.06 2.06-.94-2.06-.94L8.5 2.5l-.94 2.06-2.06.94zm10 10l.94 2.06.94-2.06 2.06-.94-2.06-.94-.94-2.06-.94 2.06-2.06.94z\"/><path d=\"M17.41 7.96l-1.37-1.37c-.4-.4-.92-.59-1.43-.59-.52 0-1.04.2-1.43.59L10.3 9.45l-7.72 7.72c-.78.78-.78 2.05 0 2.83L4 21.41c.39.39.9.59 1.41.59.51 0 1.02-.2 1.41-.59l7.78-7.78 2.81-2.81c.8-.78.8-2.07 0-2.86zM5.41 20L4 18.59l7.72-7.72 1.47 1.35L5.41 20z\"/>\n",
              "  </svg>\n",
              "      </button>\n",
              "      \n",
              "  <style>\n",
              "    .colab-df-container {\n",
              "      display:flex;\n",
              "      flex-wrap:wrap;\n",
              "      gap: 12px;\n",
              "    }\n",
              "\n",
              "    .colab-df-convert {\n",
              "      background-color: #E8F0FE;\n",
              "      border: none;\n",
              "      border-radius: 50%;\n",
              "      cursor: pointer;\n",
              "      display: none;\n",
              "      fill: #1967D2;\n",
              "      height: 32px;\n",
              "      padding: 0 0 0 0;\n",
              "      width: 32px;\n",
              "    }\n",
              "\n",
              "    .colab-df-convert:hover {\n",
              "      background-color: #E2EBFA;\n",
              "      box-shadow: 0px 1px 2px rgba(60, 64, 67, 0.3), 0px 1px 3px 1px rgba(60, 64, 67, 0.15);\n",
              "      fill: #174EA6;\n",
              "    }\n",
              "\n",
              "    [theme=dark] .colab-df-convert {\n",
              "      background-color: #3B4455;\n",
              "      fill: #D2E3FC;\n",
              "    }\n",
              "\n",
              "    [theme=dark] .colab-df-convert:hover {\n",
              "      background-color: #434B5C;\n",
              "      box-shadow: 0px 1px 3px 1px rgba(0, 0, 0, 0.15);\n",
              "      filter: drop-shadow(0px 1px 2px rgba(0, 0, 0, 0.3));\n",
              "      fill: #FFFFFF;\n",
              "    }\n",
              "  </style>\n",
              "\n",
              "      <script>\n",
              "        const buttonEl =\n",
              "          document.querySelector('#df-3682ea20-3d8c-4ed6-b624-e1b2e748e7db button.colab-df-convert');\n",
              "        buttonEl.style.display =\n",
              "          google.colab.kernel.accessAllowed ? 'block' : 'none';\n",
              "\n",
              "        async function convertToInteractive(key) {\n",
              "          const element = document.querySelector('#df-3682ea20-3d8c-4ed6-b624-e1b2e748e7db');\n",
              "          const dataTable =\n",
              "            await google.colab.kernel.invokeFunction('convertToInteractive',\n",
              "                                                     [key], {});\n",
              "          if (!dataTable) return;\n",
              "\n",
              "          const docLinkHtml = 'Like what you see? Visit the ' +\n",
              "            '<a target=\"_blank\" href=https://colab.research.google.com/notebooks/data_table.ipynb>data table notebook</a>'\n",
              "            + ' to learn more about interactive tables.';\n",
              "          element.innerHTML = '';\n",
              "          dataTable['output_type'] = 'display_data';\n",
              "          await google.colab.output.renderOutput(dataTable, element);\n",
              "          const docLink = document.createElement('div');\n",
              "          docLink.innerHTML = docLinkHtml;\n",
              "          element.appendChild(docLink);\n",
              "        }\n",
              "      </script>\n",
              "    </div>\n",
              "  </div>\n",
              "  "
            ]
          },
          "metadata": {},
          "execution_count": 139
        }
      ]
    },
    {
      "cell_type": "markdown",
      "source": [
        "### Step 4: Calculate cumulative transaction amounts "
      ],
      "metadata": {
        "id": "I_tcOXZXA1I9"
      }
    },
    {
      "cell_type": "code",
      "source": [
        "#cumulative transaction amounts\n",
        "#groupby \"OriginalYear\"\n",
        "gp = df_outlier.groupby('OriginalYear')\n",
        "#2010\n",
        "gp_10 = gp.get_group(2010)\n",
        "#2011\n",
        "gp_11 = gp.get_group(2011)\n",
        "#2012\n",
        "gp_12 = gp.get_group(2012)\n",
        "#2013\n",
        "gp_13 = gp.get_group(2013)\n",
        "#2014\n",
        "gp_14 = gp.get_group(2014)\n",
        "#2015\n",
        "gp_15 = gp.get_group(2015)"
      ],
      "metadata": {
        "id": "8o5rxoghd9hN"
      },
      "execution_count": 140,
      "outputs": []
    },
    {
      "cell_type": "code",
      "source": [
        "#group 2010\n",
        "gp_10_12 = gp_10.loc[(gp_10['Year'] <= 2010), 'Amount'].sum()\n",
        "gp_10_24 = gp_10.loc[(gp_10['Year'] <= 2011), 'Amount'].sum()\n",
        "gp_10_36 = gp_10.loc[(gp_10['Year'] <= 2012), 'Amount'].sum()\n",
        "gp_10_48 = gp_10.loc[(gp_10['Year'] <= 2013), 'Amount'].sum()\n",
        "gp_10_60 = gp_10.loc[(gp_10['Year'] <= 2014), 'Amount'].sum()\n",
        "gp_10_72 = gp_10.loc[(gp_10['Year'] <= 2015), 'Amount'].sum()\n",
        "#group 2011\n",
        "gp_11_12 = gp_11.loc[(gp_11['Year'] <= 2011), 'Amount'].sum()\n",
        "gp_11_24 = gp_11.loc[(gp_11['Year'] <= 2012), 'Amount'].sum()\n",
        "gp_11_36 = gp_11.loc[(gp_11['Year'] <= 2013), 'Amount'].sum()\n",
        "gp_11_48 = gp_11.loc[(gp_11['Year'] <= 2014), 'Amount'].sum()\n",
        "gp_11_60 = gp_11.loc[(gp_11['Year'] <= 2015), 'Amount'].sum()\n",
        "#group 2012\n",
        "gp_12_12 = gp_12.loc[(gp_12['Year'] <= 2012), 'Amount'].sum()\n",
        "gp_12_24 = gp_12.loc[(gp_12['Year'] <= 2013), 'Amount'].sum()\n",
        "gp_12_36 = gp_12.loc[(gp_12['Year'] <= 2014), 'Amount'].sum()\n",
        "gp_12_48 = gp_12.loc[(gp_12['Year'] <= 2015), 'Amount'].sum()\n",
        "#group 2013\n",
        "gp_13_12 = gp_13.loc[(gp_13['Year'] <= 2013), 'Amount'].sum()\n",
        "gp_13_24 = gp_13.loc[(gp_13['Year'] <= 2014), 'Amount'].sum()\n",
        "gp_13_36 = gp_13.loc[(gp_13['Year'] <= 2015), 'Amount'].sum()\n",
        "#group 2014\n",
        "gp_14_12 = gp_14.loc[(gp_14['Year'] <= 2014), 'Amount'].sum()\n",
        "gp_14_24 = gp_14.loc[(gp_14['Year'] <= 2015), 'Amount'].sum()\n",
        "#group 2015\n",
        "gp_15_12 = gp_15.loc[(gp_15['Year'] <= 2015), 'Amount'].sum()"
      ],
      "metadata": {
        "id": "wNM--N94h4z7"
      },
      "execution_count": 141,
      "outputs": []
    },
    {
      "cell_type": "code",
      "source": [
        "#result of cumulative transaction amounts\n",
        "ctAmount = {'12'  : [gp_10_12, gp_11_12, gp_12_12,gp_13_12, round(gp_14_12,2), gp_15_12],\n",
        "        '24'  : [gp_10_24, gp_11_24, round(gp_12_24,2), gp_13_24, round(gp_14_24,2),np.NaN],\n",
        "        '36'  : [round(gp_10_36,2), gp_11_36, gp_12_36,gp_13_36, np.NaN, np.NaN],\n",
        "        '48'  : [gp_10_48, gp_11_48,gp_12_48, np.NaN, np.NaN, np.NaN],\n",
        "        '60'  : [gp_10_60, round(gp_11_60,2), np.NaN, np.NaN, np.NaN, np.NaN],\n",
        "        '72'  : [gp_10_72, np.NaN, np.NaN, np.NaN, np.NaN, np.NaN]\n",
        "        }\n",
        "df_ctAmount = pd.DataFrame(ctAmount)\n",
        "df_ctAmount.set_axis(['2010-01-01 - 2010-12-31', '2011-01-01 - 2011-12-31', '2012-01-01 - 2012-12-31', '2013-01-01 - 2013-12-31', '2014-01-01 - 2014-12-31', '2015-01-01 - 2015-12-31'], inplace=True)\n",
        "df_ctAmount.columns.name = 'Origin'\n",
        "#new dataframe for printing, keep original one for calculation\n",
        "df_ctAmount_print = df_ctAmount.replace(np.NaN,\"\")\n",
        "df_ctAmount_print"
      ],
      "metadata": {
        "colab": {
          "base_uri": "https://localhost:8080/",
          "height": 237
        },
        "id": "pH-DW_joA1Oz",
        "outputId": "e8321deb-d26d-4007-889f-f8afc359df8e"
      },
      "execution_count": 142,
      "outputs": [
        {
          "output_type": "execute_result",
          "data": {
            "text/plain": [
              "Origin                        12       24       36       48       60       72\n",
              "2010-01-01 - 2010-12-31  2153.88  3453.24  5083.29  6358.37  7629.76  8613.55\n",
              "2011-01-01 - 2011-12-31  2061.35  3538.94   5074.2  6239.58  7330.47         \n",
              "2012-01-01 - 2012-12-31  2047.64   3646.1   4909.9  6109.66                  \n",
              "2013-01-01 - 2013-12-31  2074.20  3450.71  4989.08                           \n",
              "2014-01-01 - 2014-12-31  1807.95  3204.55                                    \n",
              "2015-01-01 - 2015-12-31  1758.60                                             "
            ],
            "text/html": [
              "\n",
              "  <div id=\"df-181860fd-c44a-464d-ad46-c89901ec16af\">\n",
              "    <div class=\"colab-df-container\">\n",
              "      <div>\n",
              "<style scoped>\n",
              "    .dataframe tbody tr th:only-of-type {\n",
              "        vertical-align: middle;\n",
              "    }\n",
              "\n",
              "    .dataframe tbody tr th {\n",
              "        vertical-align: top;\n",
              "    }\n",
              "\n",
              "    .dataframe thead th {\n",
              "        text-align: right;\n",
              "    }\n",
              "</style>\n",
              "<table border=\"1\" class=\"dataframe\">\n",
              "  <thead>\n",
              "    <tr style=\"text-align: right;\">\n",
              "      <th>Origin</th>\n",
              "      <th>12</th>\n",
              "      <th>24</th>\n",
              "      <th>36</th>\n",
              "      <th>48</th>\n",
              "      <th>60</th>\n",
              "      <th>72</th>\n",
              "    </tr>\n",
              "  </thead>\n",
              "  <tbody>\n",
              "    <tr>\n",
              "      <th>2010-01-01 - 2010-12-31</th>\n",
              "      <td>2153.88</td>\n",
              "      <td>3453.24</td>\n",
              "      <td>5083.29</td>\n",
              "      <td>6358.37</td>\n",
              "      <td>7629.76</td>\n",
              "      <td>8613.55</td>\n",
              "    </tr>\n",
              "    <tr>\n",
              "      <th>2011-01-01 - 2011-12-31</th>\n",
              "      <td>2061.35</td>\n",
              "      <td>3538.94</td>\n",
              "      <td>5074.2</td>\n",
              "      <td>6239.58</td>\n",
              "      <td>7330.47</td>\n",
              "      <td></td>\n",
              "    </tr>\n",
              "    <tr>\n",
              "      <th>2012-01-01 - 2012-12-31</th>\n",
              "      <td>2047.64</td>\n",
              "      <td>3646.1</td>\n",
              "      <td>4909.9</td>\n",
              "      <td>6109.66</td>\n",
              "      <td></td>\n",
              "      <td></td>\n",
              "    </tr>\n",
              "    <tr>\n",
              "      <th>2013-01-01 - 2013-12-31</th>\n",
              "      <td>2074.20</td>\n",
              "      <td>3450.71</td>\n",
              "      <td>4989.08</td>\n",
              "      <td></td>\n",
              "      <td></td>\n",
              "      <td></td>\n",
              "    </tr>\n",
              "    <tr>\n",
              "      <th>2014-01-01 - 2014-12-31</th>\n",
              "      <td>1807.95</td>\n",
              "      <td>3204.55</td>\n",
              "      <td></td>\n",
              "      <td></td>\n",
              "      <td></td>\n",
              "      <td></td>\n",
              "    </tr>\n",
              "    <tr>\n",
              "      <th>2015-01-01 - 2015-12-31</th>\n",
              "      <td>1758.60</td>\n",
              "      <td></td>\n",
              "      <td></td>\n",
              "      <td></td>\n",
              "      <td></td>\n",
              "      <td></td>\n",
              "    </tr>\n",
              "  </tbody>\n",
              "</table>\n",
              "</div>\n",
              "      <button class=\"colab-df-convert\" onclick=\"convertToInteractive('df-181860fd-c44a-464d-ad46-c89901ec16af')\"\n",
              "              title=\"Convert this dataframe to an interactive table.\"\n",
              "              style=\"display:none;\">\n",
              "        \n",
              "  <svg xmlns=\"http://www.w3.org/2000/svg\" height=\"24px\"viewBox=\"0 0 24 24\"\n",
              "       width=\"24px\">\n",
              "    <path d=\"M0 0h24v24H0V0z\" fill=\"none\"/>\n",
              "    <path d=\"M18.56 5.44l.94 2.06.94-2.06 2.06-.94-2.06-.94-.94-2.06-.94 2.06-2.06.94zm-11 1L8.5 8.5l.94-2.06 2.06-.94-2.06-.94L8.5 2.5l-.94 2.06-2.06.94zm10 10l.94 2.06.94-2.06 2.06-.94-2.06-.94-.94-2.06-.94 2.06-2.06.94z\"/><path d=\"M17.41 7.96l-1.37-1.37c-.4-.4-.92-.59-1.43-.59-.52 0-1.04.2-1.43.59L10.3 9.45l-7.72 7.72c-.78.78-.78 2.05 0 2.83L4 21.41c.39.39.9.59 1.41.59.51 0 1.02-.2 1.41-.59l7.78-7.78 2.81-2.81c.8-.78.8-2.07 0-2.86zM5.41 20L4 18.59l7.72-7.72 1.47 1.35L5.41 20z\"/>\n",
              "  </svg>\n",
              "      </button>\n",
              "      \n",
              "  <style>\n",
              "    .colab-df-container {\n",
              "      display:flex;\n",
              "      flex-wrap:wrap;\n",
              "      gap: 12px;\n",
              "    }\n",
              "\n",
              "    .colab-df-convert {\n",
              "      background-color: #E8F0FE;\n",
              "      border: none;\n",
              "      border-radius: 50%;\n",
              "      cursor: pointer;\n",
              "      display: none;\n",
              "      fill: #1967D2;\n",
              "      height: 32px;\n",
              "      padding: 0 0 0 0;\n",
              "      width: 32px;\n",
              "    }\n",
              "\n",
              "    .colab-df-convert:hover {\n",
              "      background-color: #E2EBFA;\n",
              "      box-shadow: 0px 1px 2px rgba(60, 64, 67, 0.3), 0px 1px 3px 1px rgba(60, 64, 67, 0.15);\n",
              "      fill: #174EA6;\n",
              "    }\n",
              "\n",
              "    [theme=dark] .colab-df-convert {\n",
              "      background-color: #3B4455;\n",
              "      fill: #D2E3FC;\n",
              "    }\n",
              "\n",
              "    [theme=dark] .colab-df-convert:hover {\n",
              "      background-color: #434B5C;\n",
              "      box-shadow: 0px 1px 3px 1px rgba(0, 0, 0, 0.15);\n",
              "      filter: drop-shadow(0px 1px 2px rgba(0, 0, 0, 0.3));\n",
              "      fill: #FFFFFF;\n",
              "    }\n",
              "  </style>\n",
              "\n",
              "      <script>\n",
              "        const buttonEl =\n",
              "          document.querySelector('#df-181860fd-c44a-464d-ad46-c89901ec16af button.colab-df-convert');\n",
              "        buttonEl.style.display =\n",
              "          google.colab.kernel.accessAllowed ? 'block' : 'none';\n",
              "\n",
              "        async function convertToInteractive(key) {\n",
              "          const element = document.querySelector('#df-181860fd-c44a-464d-ad46-c89901ec16af');\n",
              "          const dataTable =\n",
              "            await google.colab.kernel.invokeFunction('convertToInteractive',\n",
              "                                                     [key], {});\n",
              "          if (!dataTable) return;\n",
              "\n",
              "          const docLinkHtml = 'Like what you see? Visit the ' +\n",
              "            '<a target=\"_blank\" href=https://colab.research.google.com/notebooks/data_table.ipynb>data table notebook</a>'\n",
              "            + ' to learn more about interactive tables.';\n",
              "          element.innerHTML = '';\n",
              "          dataTable['output_type'] = 'display_data';\n",
              "          await google.colab.output.renderOutput(dataTable, element);\n",
              "          const docLink = document.createElement('div');\n",
              "          docLink.innerHTML = docLinkHtml;\n",
              "          element.appendChild(docLink);\n",
              "        }\n",
              "      </script>\n",
              "    </div>\n",
              "  </div>\n",
              "  "
            ]
          },
          "metadata": {},
          "execution_count": 142
        }
      ]
    },
    {
      "cell_type": "markdown",
      "source": [
        "#### Answer:"
      ],
      "metadata": {
        "id": "Xl9lPttus66J"
      }
    },
    {
      "cell_type": "markdown",
      "source": [
        "|Origin|12|24|36|48|60|72|\n",
        "|---|---|---|---|---|---|---|\n",
        "|2010-01-01 - 2010-12-31|2153\\.88|3453\\.24|5083\\.29|6358\\.37|7629\\.76|8613\\.55|\n",
        "|2011-01-01 - 2011-12-31|2061\\.35|3537\\.94|5073\\.2|6238\\.58|7329\\.47||\n",
        "|2012-01-01 - 2012-12-31|2047\\.64|3646\\.1|4909\\.9|6109\\.66|||\n",
        "|2013-01-01 - 2013-12-31|2074\\.2|3449\\.71|4988\\.08||||\n",
        "|2014-01-01 - 2014-12-31|1807\\.95|3204\\.55|||||\n",
        "|2015-01-01 - 2015-12-31|1758\\.6||||||"
      ],
      "metadata": {
        "id": "XOzzlp0KroR2"
      }
    },
    {
      "cell_type": "markdown",
      "source": [
        "### Step 5: Calculate number of new customers"
      ],
      "metadata": {
        "id": "u2A5V3M1A1TS"
      }
    },
    {
      "cell_type": "code",
      "source": [
        "#calculate new customer per year\n",
        "gp_10_customer= gp_10['CustomerID'].nunique()\n",
        "gp_11_customer= gp_11['CustomerID'].nunique()\n",
        "gp_12_customer= gp_12['CustomerID'].nunique()\n",
        "gp_13_customer= gp_13['CustomerID'].nunique()\n",
        "gp_14_customer= gp_14['CustomerID'].nunique()\n",
        "gp_15_customer= gp_15['CustomerID'].nunique()"
      ],
      "metadata": {
        "id": "5ssK4Ud-A1Xa"
      },
      "execution_count": 143,
      "outputs": []
    },
    {
      "cell_type": "code",
      "source": [
        "#result of number of new customers\n",
        "newCustomer = {'12'  : [gp_10_customer, gp_11_customer, gp_12_customer, gp_13_customer, gp_14_customer, gp_15_customer],\n",
        "        '24'  : [gp_10_customer, gp_11_customer, gp_12_customer, gp_13_customer, gp_14_customer, np.NaN],\n",
        "        '36'  : [gp_10_customer, gp_11_customer, gp_12_customer, gp_13_customer, np.NaN, np.NaN],\n",
        "        '48'  : [gp_10_customer, gp_11_customer, gp_12_customer, np.NaN, np.NaN, np.NaN],\n",
        "        '60'  : [gp_10_customer, gp_11_customer,  np.NaN,  np.NaN,  np.NaN, np.NaN],\n",
        "        '72'  : [gp_10_customer,  np.NaN,  np.NaN,  np.NaN,  np.NaN, np.NaN]\n",
        "        }\n",
        "df_newCustomer = pd.DataFrame(newCustomer)\n",
        "df_newCustomer.set_axis(['2010-01-01 - 2010-12-31', '2011-01-01 - 2011-12-31', '2012-01-01 - 2012-12-31', '2013-01-01 - 2013-12-31', '2014-01-01 - 2014-12-31', '2015-01-01 - 2015-12-31'], inplace=True)\n",
        "df_newCustomer.columns.name = 'Origin'\n",
        "#new dataframe for printing, keep original one for calculation\n",
        "df_newCustomer_print = df_newCustomer.replace(np.NaN,\"\")\n",
        "df_newCustomer_print"
      ],
      "metadata": {
        "colab": {
          "base_uri": "https://localhost:8080/",
          "height": 237
        },
        "id": "gRcpWQrXmED3",
        "outputId": "17658de7-e8c6-455c-b9c1-60ce0ff811c5"
      },
      "execution_count": 144,
      "outputs": [
        {
          "output_type": "execute_result",
          "data": {
            "text/plain": [
              "Origin                    12     24     36     48     60     72\n",
              "2010-01-01 - 2010-12-31  171  171.0  171.0  171.0  171.0  171.0\n",
              "2011-01-01 - 2011-12-31  167  167.0  167.0  167.0  167.0       \n",
              "2012-01-01 - 2012-12-31  164  164.0  164.0  164.0              \n",
              "2013-01-01 - 2013-12-31  181  181.0  181.0                     \n",
              "2014-01-01 - 2014-12-31  156  156.0                            \n",
              "2015-01-01 - 2015-12-31  159                                   "
            ],
            "text/html": [
              "\n",
              "  <div id=\"df-96c45286-db5f-45cf-913c-82075ca0275e\">\n",
              "    <div class=\"colab-df-container\">\n",
              "      <div>\n",
              "<style scoped>\n",
              "    .dataframe tbody tr th:only-of-type {\n",
              "        vertical-align: middle;\n",
              "    }\n",
              "\n",
              "    .dataframe tbody tr th {\n",
              "        vertical-align: top;\n",
              "    }\n",
              "\n",
              "    .dataframe thead th {\n",
              "        text-align: right;\n",
              "    }\n",
              "</style>\n",
              "<table border=\"1\" class=\"dataframe\">\n",
              "  <thead>\n",
              "    <tr style=\"text-align: right;\">\n",
              "      <th>Origin</th>\n",
              "      <th>12</th>\n",
              "      <th>24</th>\n",
              "      <th>36</th>\n",
              "      <th>48</th>\n",
              "      <th>60</th>\n",
              "      <th>72</th>\n",
              "    </tr>\n",
              "  </thead>\n",
              "  <tbody>\n",
              "    <tr>\n",
              "      <th>2010-01-01 - 2010-12-31</th>\n",
              "      <td>171</td>\n",
              "      <td>171.0</td>\n",
              "      <td>171.0</td>\n",
              "      <td>171.0</td>\n",
              "      <td>171.0</td>\n",
              "      <td>171.0</td>\n",
              "    </tr>\n",
              "    <tr>\n",
              "      <th>2011-01-01 - 2011-12-31</th>\n",
              "      <td>167</td>\n",
              "      <td>167.0</td>\n",
              "      <td>167.0</td>\n",
              "      <td>167.0</td>\n",
              "      <td>167.0</td>\n",
              "      <td></td>\n",
              "    </tr>\n",
              "    <tr>\n",
              "      <th>2012-01-01 - 2012-12-31</th>\n",
              "      <td>164</td>\n",
              "      <td>164.0</td>\n",
              "      <td>164.0</td>\n",
              "      <td>164.0</td>\n",
              "      <td></td>\n",
              "      <td></td>\n",
              "    </tr>\n",
              "    <tr>\n",
              "      <th>2013-01-01 - 2013-12-31</th>\n",
              "      <td>181</td>\n",
              "      <td>181.0</td>\n",
              "      <td>181.0</td>\n",
              "      <td></td>\n",
              "      <td></td>\n",
              "      <td></td>\n",
              "    </tr>\n",
              "    <tr>\n",
              "      <th>2014-01-01 - 2014-12-31</th>\n",
              "      <td>156</td>\n",
              "      <td>156.0</td>\n",
              "      <td></td>\n",
              "      <td></td>\n",
              "      <td></td>\n",
              "      <td></td>\n",
              "    </tr>\n",
              "    <tr>\n",
              "      <th>2015-01-01 - 2015-12-31</th>\n",
              "      <td>159</td>\n",
              "      <td></td>\n",
              "      <td></td>\n",
              "      <td></td>\n",
              "      <td></td>\n",
              "      <td></td>\n",
              "    </tr>\n",
              "  </tbody>\n",
              "</table>\n",
              "</div>\n",
              "      <button class=\"colab-df-convert\" onclick=\"convertToInteractive('df-96c45286-db5f-45cf-913c-82075ca0275e')\"\n",
              "              title=\"Convert this dataframe to an interactive table.\"\n",
              "              style=\"display:none;\">\n",
              "        \n",
              "  <svg xmlns=\"http://www.w3.org/2000/svg\" height=\"24px\"viewBox=\"0 0 24 24\"\n",
              "       width=\"24px\">\n",
              "    <path d=\"M0 0h24v24H0V0z\" fill=\"none\"/>\n",
              "    <path d=\"M18.56 5.44l.94 2.06.94-2.06 2.06-.94-2.06-.94-.94-2.06-.94 2.06-2.06.94zm-11 1L8.5 8.5l.94-2.06 2.06-.94-2.06-.94L8.5 2.5l-.94 2.06-2.06.94zm10 10l.94 2.06.94-2.06 2.06-.94-2.06-.94-.94-2.06-.94 2.06-2.06.94z\"/><path d=\"M17.41 7.96l-1.37-1.37c-.4-.4-.92-.59-1.43-.59-.52 0-1.04.2-1.43.59L10.3 9.45l-7.72 7.72c-.78.78-.78 2.05 0 2.83L4 21.41c.39.39.9.59 1.41.59.51 0 1.02-.2 1.41-.59l7.78-7.78 2.81-2.81c.8-.78.8-2.07 0-2.86zM5.41 20L4 18.59l7.72-7.72 1.47 1.35L5.41 20z\"/>\n",
              "  </svg>\n",
              "      </button>\n",
              "      \n",
              "  <style>\n",
              "    .colab-df-container {\n",
              "      display:flex;\n",
              "      flex-wrap:wrap;\n",
              "      gap: 12px;\n",
              "    }\n",
              "\n",
              "    .colab-df-convert {\n",
              "      background-color: #E8F0FE;\n",
              "      border: none;\n",
              "      border-radius: 50%;\n",
              "      cursor: pointer;\n",
              "      display: none;\n",
              "      fill: #1967D2;\n",
              "      height: 32px;\n",
              "      padding: 0 0 0 0;\n",
              "      width: 32px;\n",
              "    }\n",
              "\n",
              "    .colab-df-convert:hover {\n",
              "      background-color: #E2EBFA;\n",
              "      box-shadow: 0px 1px 2px rgba(60, 64, 67, 0.3), 0px 1px 3px 1px rgba(60, 64, 67, 0.15);\n",
              "      fill: #174EA6;\n",
              "    }\n",
              "\n",
              "    [theme=dark] .colab-df-convert {\n",
              "      background-color: #3B4455;\n",
              "      fill: #D2E3FC;\n",
              "    }\n",
              "\n",
              "    [theme=dark] .colab-df-convert:hover {\n",
              "      background-color: #434B5C;\n",
              "      box-shadow: 0px 1px 3px 1px rgba(0, 0, 0, 0.15);\n",
              "      filter: drop-shadow(0px 1px 2px rgba(0, 0, 0, 0.3));\n",
              "      fill: #FFFFFF;\n",
              "    }\n",
              "  </style>\n",
              "\n",
              "      <script>\n",
              "        const buttonEl =\n",
              "          document.querySelector('#df-96c45286-db5f-45cf-913c-82075ca0275e button.colab-df-convert');\n",
              "        buttonEl.style.display =\n",
              "          google.colab.kernel.accessAllowed ? 'block' : 'none';\n",
              "\n",
              "        async function convertToInteractive(key) {\n",
              "          const element = document.querySelector('#df-96c45286-db5f-45cf-913c-82075ca0275e');\n",
              "          const dataTable =\n",
              "            await google.colab.kernel.invokeFunction('convertToInteractive',\n",
              "                                                     [key], {});\n",
              "          if (!dataTable) return;\n",
              "\n",
              "          const docLinkHtml = 'Like what you see? Visit the ' +\n",
              "            '<a target=\"_blank\" href=https://colab.research.google.com/notebooks/data_table.ipynb>data table notebook</a>'\n",
              "            + ' to learn more about interactive tables.';\n",
              "          element.innerHTML = '';\n",
              "          dataTable['output_type'] = 'display_data';\n",
              "          await google.colab.output.renderOutput(dataTable, element);\n",
              "          const docLink = document.createElement('div');\n",
              "          docLink.innerHTML = docLinkHtml;\n",
              "          element.appendChild(docLink);\n",
              "        }\n",
              "      </script>\n",
              "    </div>\n",
              "  </div>\n",
              "  "
            ]
          },
          "metadata": {},
          "execution_count": 144
        }
      ]
    },
    {
      "cell_type": "markdown",
      "source": [
        "#### Answer:"
      ],
      "metadata": {
        "id": "GvZWbnJntcZb"
      }
    },
    {
      "cell_type": "markdown",
      "source": [
        "|Origin|12|24|36|48|60|72|\n",
        "|---|---|---|---|---|---|---|\n",
        "|2010-01-01 - 2010-12-31|171|171|171|171|171|171|\n",
        "|2011-01-01 - 2011-12-31|167|167|167|167|167||\n",
        "|2012-01-01 - 2012-12-31|164|164|164|164|||\n",
        "|2013-01-01 - 2013-12-31|181|181|181||||\n",
        "|2014-01-01 - 2014-12-31|156|156|||||\n",
        "|2015-01-01 - 2015-12-31|159||||||"
      ],
      "metadata": {
        "id": "BnlB0R8SrZdr"
      }
    },
    {
      "cell_type": "markdown",
      "source": [
        "### Step 6: Historic CLV "
      ],
      "metadata": {
        "id": "pgOhvNUiJZYt"
      }
    },
    {
      "cell_type": "code",
      "source": [
        "# Historic CLV result\n",
        "df_hCLV = df_ctAmount.div(df_newCustomer)\n",
        "df_hCLV = df_hCLV.round(decimals = 2)\n",
        "df_hCLV.columns.name = 'Origin'\n",
        "df_hCLV.replace(np.NaN,\"\")"
      ],
      "metadata": {
        "colab": {
          "base_uri": "https://localhost:8080/",
          "height": 237
        },
        "id": "Aen5yPCrJZeH",
        "outputId": "98fe5577-cd15-4ce9-9ea7-9535332d43f6"
      },
      "execution_count": 147,
      "outputs": [
        {
          "output_type": "execute_result",
          "data": {
            "text/plain": [
              "Origin                      12     24     36     48     60     72\n",
              "2010-01-01 - 2010-12-31  12.60  20.19  29.73  37.18  44.62  50.37\n",
              "2011-01-01 - 2011-12-31  12.34  21.19  30.38  37.36   43.9       \n",
              "2012-01-01 - 2012-12-31  12.49  22.23  29.94  37.25              \n",
              "2013-01-01 - 2013-12-31  11.46  19.06  27.56                     \n",
              "2014-01-01 - 2014-12-31  11.59  20.54                            \n",
              "2015-01-01 - 2015-12-31  11.06                                   "
            ],
            "text/html": [
              "\n",
              "  <div id=\"df-3dec7523-4f1a-47f5-add9-1f97ccfe3ffd\">\n",
              "    <div class=\"colab-df-container\">\n",
              "      <div>\n",
              "<style scoped>\n",
              "    .dataframe tbody tr th:only-of-type {\n",
              "        vertical-align: middle;\n",
              "    }\n",
              "\n",
              "    .dataframe tbody tr th {\n",
              "        vertical-align: top;\n",
              "    }\n",
              "\n",
              "    .dataframe thead th {\n",
              "        text-align: right;\n",
              "    }\n",
              "</style>\n",
              "<table border=\"1\" class=\"dataframe\">\n",
              "  <thead>\n",
              "    <tr style=\"text-align: right;\">\n",
              "      <th>Origin</th>\n",
              "      <th>12</th>\n",
              "      <th>24</th>\n",
              "      <th>36</th>\n",
              "      <th>48</th>\n",
              "      <th>60</th>\n",
              "      <th>72</th>\n",
              "    </tr>\n",
              "  </thead>\n",
              "  <tbody>\n",
              "    <tr>\n",
              "      <th>2010-01-01 - 2010-12-31</th>\n",
              "      <td>12.60</td>\n",
              "      <td>20.19</td>\n",
              "      <td>29.73</td>\n",
              "      <td>37.18</td>\n",
              "      <td>44.62</td>\n",
              "      <td>50.37</td>\n",
              "    </tr>\n",
              "    <tr>\n",
              "      <th>2011-01-01 - 2011-12-31</th>\n",
              "      <td>12.34</td>\n",
              "      <td>21.19</td>\n",
              "      <td>30.38</td>\n",
              "      <td>37.36</td>\n",
              "      <td>43.9</td>\n",
              "      <td></td>\n",
              "    </tr>\n",
              "    <tr>\n",
              "      <th>2012-01-01 - 2012-12-31</th>\n",
              "      <td>12.49</td>\n",
              "      <td>22.23</td>\n",
              "      <td>29.94</td>\n",
              "      <td>37.25</td>\n",
              "      <td></td>\n",
              "      <td></td>\n",
              "    </tr>\n",
              "    <tr>\n",
              "      <th>2013-01-01 - 2013-12-31</th>\n",
              "      <td>11.46</td>\n",
              "      <td>19.06</td>\n",
              "      <td>27.56</td>\n",
              "      <td></td>\n",
              "      <td></td>\n",
              "      <td></td>\n",
              "    </tr>\n",
              "    <tr>\n",
              "      <th>2014-01-01 - 2014-12-31</th>\n",
              "      <td>11.59</td>\n",
              "      <td>20.54</td>\n",
              "      <td></td>\n",
              "      <td></td>\n",
              "      <td></td>\n",
              "      <td></td>\n",
              "    </tr>\n",
              "    <tr>\n",
              "      <th>2015-01-01 - 2015-12-31</th>\n",
              "      <td>11.06</td>\n",
              "      <td></td>\n",
              "      <td></td>\n",
              "      <td></td>\n",
              "      <td></td>\n",
              "      <td></td>\n",
              "    </tr>\n",
              "  </tbody>\n",
              "</table>\n",
              "</div>\n",
              "      <button class=\"colab-df-convert\" onclick=\"convertToInteractive('df-3dec7523-4f1a-47f5-add9-1f97ccfe3ffd')\"\n",
              "              title=\"Convert this dataframe to an interactive table.\"\n",
              "              style=\"display:none;\">\n",
              "        \n",
              "  <svg xmlns=\"http://www.w3.org/2000/svg\" height=\"24px\"viewBox=\"0 0 24 24\"\n",
              "       width=\"24px\">\n",
              "    <path d=\"M0 0h24v24H0V0z\" fill=\"none\"/>\n",
              "    <path d=\"M18.56 5.44l.94 2.06.94-2.06 2.06-.94-2.06-.94-.94-2.06-.94 2.06-2.06.94zm-11 1L8.5 8.5l.94-2.06 2.06-.94-2.06-.94L8.5 2.5l-.94 2.06-2.06.94zm10 10l.94 2.06.94-2.06 2.06-.94-2.06-.94-.94-2.06-.94 2.06-2.06.94z\"/><path d=\"M17.41 7.96l-1.37-1.37c-.4-.4-.92-.59-1.43-.59-.52 0-1.04.2-1.43.59L10.3 9.45l-7.72 7.72c-.78.78-.78 2.05 0 2.83L4 21.41c.39.39.9.59 1.41.59.51 0 1.02-.2 1.41-.59l7.78-7.78 2.81-2.81c.8-.78.8-2.07 0-2.86zM5.41 20L4 18.59l7.72-7.72 1.47 1.35L5.41 20z\"/>\n",
              "  </svg>\n",
              "      </button>\n",
              "      \n",
              "  <style>\n",
              "    .colab-df-container {\n",
              "      display:flex;\n",
              "      flex-wrap:wrap;\n",
              "      gap: 12px;\n",
              "    }\n",
              "\n",
              "    .colab-df-convert {\n",
              "      background-color: #E8F0FE;\n",
              "      border: none;\n",
              "      border-radius: 50%;\n",
              "      cursor: pointer;\n",
              "      display: none;\n",
              "      fill: #1967D2;\n",
              "      height: 32px;\n",
              "      padding: 0 0 0 0;\n",
              "      width: 32px;\n",
              "    }\n",
              "\n",
              "    .colab-df-convert:hover {\n",
              "      background-color: #E2EBFA;\n",
              "      box-shadow: 0px 1px 2px rgba(60, 64, 67, 0.3), 0px 1px 3px 1px rgba(60, 64, 67, 0.15);\n",
              "      fill: #174EA6;\n",
              "    }\n",
              "\n",
              "    [theme=dark] .colab-df-convert {\n",
              "      background-color: #3B4455;\n",
              "      fill: #D2E3FC;\n",
              "    }\n",
              "\n",
              "    [theme=dark] .colab-df-convert:hover {\n",
              "      background-color: #434B5C;\n",
              "      box-shadow: 0px 1px 3px 1px rgba(0, 0, 0, 0.15);\n",
              "      filter: drop-shadow(0px 1px 2px rgba(0, 0, 0, 0.3));\n",
              "      fill: #FFFFFF;\n",
              "    }\n",
              "  </style>\n",
              "\n",
              "      <script>\n",
              "        const buttonEl =\n",
              "          document.querySelector('#df-3dec7523-4f1a-47f5-add9-1f97ccfe3ffd button.colab-df-convert');\n",
              "        buttonEl.style.display =\n",
              "          google.colab.kernel.accessAllowed ? 'block' : 'none';\n",
              "\n",
              "        async function convertToInteractive(key) {\n",
              "          const element = document.querySelector('#df-3dec7523-4f1a-47f5-add9-1f97ccfe3ffd');\n",
              "          const dataTable =\n",
              "            await google.colab.kernel.invokeFunction('convertToInteractive',\n",
              "                                                     [key], {});\n",
              "          if (!dataTable) return;\n",
              "\n",
              "          const docLinkHtml = 'Like what you see? Visit the ' +\n",
              "            '<a target=\"_blank\" href=https://colab.research.google.com/notebooks/data_table.ipynb>data table notebook</a>'\n",
              "            + ' to learn more about interactive tables.';\n",
              "          element.innerHTML = '';\n",
              "          dataTable['output_type'] = 'display_data';\n",
              "          await google.colab.output.renderOutput(dataTable, element);\n",
              "          const docLink = document.createElement('div');\n",
              "          docLink.innerHTML = docLinkHtml;\n",
              "          element.appendChild(docLink);\n",
              "        }\n",
              "      </script>\n",
              "    </div>\n",
              "  </div>\n",
              "  "
            ]
          },
          "metadata": {},
          "execution_count": 147
        }
      ]
    },
    {
      "cell_type": "markdown",
      "source": [
        "### Answer:"
      ],
      "metadata": {
        "id": "WnZCtG0xcznV"
      }
    },
    {
      "cell_type": "markdown",
      "source": [
        "|Origin|12|24|36|48|60|72|\n",
        "|---|---|---|---|---|---|---|\n",
        "|2010-01-01 - 2010-12-31|12\\.6|20\\.19|29\\.73|37\\.18|44\\.62|50\\.37|\n",
        "|2011-01-01 - 2011-12-31|12\\.34|21\\.19|30\\.38|37\\.36|43\\.9||\n",
        "|2012-01-01 - 2012-12-31|12\\.49|22\\.23|29\\.94|37\\.25|||\n",
        "|2013-01-01 - 2013-12-31|11\\.46|19\\.06|27\\.56||||\n",
        "|2014-01-01 - 2014-12-31|11\\.59|20\\.54|||||\n",
        "|2015-01-01 - 2015-12-31|11\\.06||||||"
      ],
      "metadata": {
        "id": "PV31mQmac3l5"
      }
    },
    {
      "cell_type": "code",
      "source": [
        "#line chart\n",
        "plt.style.use(\"ggplot\")\n",
        "for i in range(len(df_hCLV)):\n",
        "  data = df_hCLV.iloc[i]\n",
        "  plt.plot(data, 'o-', label = data.name)\n",
        "plt.legend(title=\"Origin\")\n",
        "# plt.grid()\n",
        "plt.xlabel('Age')\n",
        "plt.ylabel('HistoricCLV')\n",
        "plt.title('Historic CLV')\n",
        "plt.show()"
      ],
      "metadata": {
        "id": "GxpchIZD50D6",
        "colab": {
          "base_uri": "https://localhost:8080/",
          "height": 317
        },
        "outputId": "df1f194c-aa0d-42b8-c05f-cd73eacf1b07"
      },
      "execution_count": 82,
      "outputs": [
        {
          "output_type": "execute_result",
          "data": {
            "text/plain": [
              "Text(0.5, 1.0, 'Historic CLV')"
            ]
          },
          "metadata": {},
          "execution_count": 82
        },
        {
          "output_type": "display_data",
          "data": {
            "text/plain": [
              "<Figure size 432x288 with 1 Axes>"
            ],
            "image/png": "[encoded data removed]"
          },
          "metadata": {}
        }
      ]
    },
    {
      "cell_type": "code",
      "source": [
        "#calculate volume-weighted average Amount group by Age\n",
        "\n",
        "df_weighted = df_newCustomer * df_hCLV\n",
        "sum_hCLV_by_age = df_weighted.sum(axis=0) \n",
        "sum_customer_by_age = df_newCustomer.sum(axis=0)\n",
        "weighted_avg = sum_hCLV_by_age / sum_customer_by_age\n",
        "\n",
        "df_weighted_avg = weighted_avg.to_frame(name = \"HistoricCLV\")\n",
        "df_weighted_avg.index.name = 'Age'\n",
        "df_weighted_avg = df_weighted_avg.round(decimals = 2)\n",
        "df_weighted_avg"
      ],
      "metadata": {
        "id": "KCGxwFaB50Rx",
        "colab": {
          "base_uri": "https://localhost:8080/",
          "height": 236
        },
        "outputId": "889fb1b9-5c2e-43a2-adc7-c8ed763d0db0"
      },
      "execution_count": 148,
      "outputs": [
        {
          "output_type": "execute_result",
          "data": {
            "text/plain": [
              "     HistoricCLV\n",
              "Age             \n",
              "12         11.93\n",
              "24         20.61\n",
              "36         29.36\n",
              "48         37.26\n",
              "60         44.26\n",
              "72         50.37"
            ],
            "text/html": [
              "\n",
              "  <div id=\"df-79fba090-5f48-41ad-b31e-4310259146a2\">\n",
              "    <div class=\"colab-df-container\">\n",
              "      <div>\n",
              "<style scoped>\n",
              "    .dataframe tbody tr th:only-of-type {\n",
              "        vertical-align: middle;\n",
              "    }\n",
              "\n",
              "    .dataframe tbody tr th {\n",
              "        vertical-align: top;\n",
              "    }\n",
              "\n",
              "    .dataframe thead th {\n",
              "        text-align: right;\n",
              "    }\n",
              "</style>\n",
              "<table border=\"1\" class=\"dataframe\">\n",
              "  <thead>\n",
              "    <tr style=\"text-align: right;\">\n",
              "      <th></th>\n",
              "      <th>HistoricCLV</th>\n",
              "    </tr>\n",
              "    <tr>\n",
              "      <th>Age</th>\n",
              "      <th></th>\n",
              "    </tr>\n",
              "  </thead>\n",
              "  <tbody>\n",
              "    <tr>\n",
              "      <th>12</th>\n",
              "      <td>11.93</td>\n",
              "    </tr>\n",
              "    <tr>\n",
              "      <th>24</th>\n",
              "      <td>20.61</td>\n",
              "    </tr>\n",
              "    <tr>\n",
              "      <th>36</th>\n",
              "      <td>29.36</td>\n",
              "    </tr>\n",
              "    <tr>\n",
              "      <th>48</th>\n",
              "      <td>37.26</td>\n",
              "    </tr>\n",
              "    <tr>\n",
              "      <th>60</th>\n",
              "      <td>44.26</td>\n",
              "    </tr>\n",
              "    <tr>\n",
              "      <th>72</th>\n",
              "      <td>50.37</td>\n",
              "    </tr>\n",
              "  </tbody>\n",
              "</table>\n",
              "</div>\n",
              "      <button class=\"colab-df-convert\" onclick=\"convertToInteractive('df-79fba090-5f48-41ad-b31e-4310259146a2')\"\n",
              "              title=\"Convert this dataframe to an interactive table.\"\n",
              "              style=\"display:none;\">\n",
              "        \n",
              "  <svg xmlns=\"http://www.w3.org/2000/svg\" height=\"24px\"viewBox=\"0 0 24 24\"\n",
              "       width=\"24px\">\n",
              "    <path d=\"M0 0h24v24H0V0z\" fill=\"none\"/>\n",
              "    <path d=\"M18.56 5.44l.94 2.06.94-2.06 2.06-.94-2.06-.94-.94-2.06-.94 2.06-2.06.94zm-11 1L8.5 8.5l.94-2.06 2.06-.94-2.06-.94L8.5 2.5l-.94 2.06-2.06.94zm10 10l.94 2.06.94-2.06 2.06-.94-2.06-.94-.94-2.06-.94 2.06-2.06.94z\"/><path d=\"M17.41 7.96l-1.37-1.37c-.4-.4-.92-.59-1.43-.59-.52 0-1.04.2-1.43.59L10.3 9.45l-7.72 7.72c-.78.78-.78 2.05 0 2.83L4 21.41c.39.39.9.59 1.41.59.51 0 1.02-.2 1.41-.59l7.78-7.78 2.81-2.81c.8-.78.8-2.07 0-2.86zM5.41 20L4 18.59l7.72-7.72 1.47 1.35L5.41 20z\"/>\n",
              "  </svg>\n",
              "      </button>\n",
              "      \n",
              "  <style>\n",
              "    .colab-df-container {\n",
              "      display:flex;\n",
              "      flex-wrap:wrap;\n",
              "      gap: 12px;\n",
              "    }\n",
              "\n",
              "    .colab-df-convert {\n",
              "      background-color: #E8F0FE;\n",
              "      border: none;\n",
              "      border-radius: 50%;\n",
              "      cursor: pointer;\n",
              "      display: none;\n",
              "      fill: #1967D2;\n",
              "      height: 32px;\n",
              "      padding: 0 0 0 0;\n",
              "      width: 32px;\n",
              "    }\n",
              "\n",
              "    .colab-df-convert:hover {\n",
              "      background-color: #E2EBFA;\n",
              "      box-shadow: 0px 1px 2px rgba(60, 64, 67, 0.3), 0px 1px 3px 1px rgba(60, 64, 67, 0.15);\n",
              "      fill: #174EA6;\n",
              "    }\n",
              "\n",
              "    [theme=dark] .colab-df-convert {\n",
              "      background-color: #3B4455;\n",
              "      fill: #D2E3FC;\n",
              "    }\n",
              "\n",
              "    [theme=dark] .colab-df-convert:hover {\n",
              "      background-color: #434B5C;\n",
              "      box-shadow: 0px 1px 3px 1px rgba(0, 0, 0, 0.15);\n",
              "      filter: drop-shadow(0px 1px 2px rgba(0, 0, 0, 0.3));\n",
              "      fill: #FFFFFF;\n",
              "    }\n",
              "  </style>\n",
              "\n",
              "      <script>\n",
              "        const buttonEl =\n",
              "          document.querySelector('#df-79fba090-5f48-41ad-b31e-4310259146a2 button.colab-df-convert');\n",
              "        buttonEl.style.display =\n",
              "          google.colab.kernel.accessAllowed ? 'block' : 'none';\n",
              "\n",
              "        async function convertToInteractive(key) {\n",
              "          const element = document.querySelector('#df-79fba090-5f48-41ad-b31e-4310259146a2');\n",
              "          const dataTable =\n",
              "            await google.colab.kernel.invokeFunction('convertToInteractive',\n",
              "                                                     [key], {});\n",
              "          if (!dataTable) return;\n",
              "\n",
              "          const docLinkHtml = 'Like what you see? Visit the ' +\n",
              "            '<a target=\"_blank\" href=https://colab.research.google.com/notebooks/data_table.ipynb>data table notebook</a>'\n",
              "            + ' to learn more about interactive tables.';\n",
              "          element.innerHTML = '';\n",
              "          dataTable['output_type'] = 'display_data';\n",
              "          await google.colab.output.renderOutput(dataTable, element);\n",
              "          const docLink = document.createElement('div');\n",
              "          docLink.innerHTML = docLinkHtml;\n",
              "          element.appendChild(docLink);\n",
              "        }\n",
              "      </script>\n",
              "    </div>\n",
              "  </div>\n",
              "  "
            ]
          },
          "metadata": {},
          "execution_count": 148
        }
      ]
    },
    {
      "cell_type": "markdown",
      "source": [
        "#### Answer:"
      ],
      "metadata": {
        "id": "smplYBB8twhT"
      }
    },
    {
      "cell_type": "markdown",
      "source": [
        "|Age|HistoricCLV|\n",
        "|---|---|\n",
        "|12|11\\.93|\n",
        "|24|20\\.61|\n",
        "|36|29\\.36|\n",
        "|48|37\\.26|\n",
        "|60|44\\.26|\n",
        "|72|50\\.37|"
      ],
      "metadata": {
        "id": "-Ultb9Eptx4O"
      }
    },
    {
      "cell_type": "markdown",
      "source": [
        "### Step 7: Interpreting your results "
      ],
      "metadata": {
        "id": "AiMhrqBpV-jm"
      }
    },
    {
      "cell_type": "markdown",
      "source": [
        "1.How much have customers acquired in 2011 spent to date?"
      ],
      "metadata": {
        "id": "bCtTHMfUV-sJ"
      }
    },
    {
      "cell_type": "markdown",
      "source": [
        "Answer:  \n",
        "Customers acquired in 2011 have spent $43.90 to date."
      ],
      "metadata": {
        "id": "9iT9kS7C2zQ_"
      }
    },
    {
      "cell_type": "markdown",
      "source": [
        "2.Do each group of customers exhibit similar or different patterns of spending? What’s the\n",
        "implication for the business?"
      ],
      "metadata": {
        "id": "-1glj5v520Pv"
      }
    },
    {
      "cell_type": "markdown",
      "source": [
        "Answer:  \n",
        "Each group of customers exhibit similar patterns of spending as shown in the Historic CLV plot above.\n",
        "It implicates that it should give us confidence in assuming $50.37 is a decent lower bound on CLV."
      ],
      "metadata": {
        "id": "s_4hBdm520ZR"
      }
    }
  ]
}